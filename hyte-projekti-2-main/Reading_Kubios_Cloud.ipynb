{
 "cells": [
  {
   "cell_type": "markdown",
   "id": "pacific-interval",
   "metadata": {},
   "source": [
    "# Reading Kubios Cloud\n",
    "26.2.2021, Sakari Lukkarinen\\\n",
    "Metropolia UAS\n",
    "\n",
    "## Introduction\n",
    "\n",
    "The following code is based on the example code (see Kubioscloud example for authorization).\n",
    "\n",
    "### How to use this Notebook\n",
    "\n",
    "- For USERNAME and PASSWORD use the Kubios HRV application username and password.\n",
    "- You can use also the same username and password to login into the Kubios Cloud API.\n",
    "- In addition you need CLIENT_ID to read the data from Kubioscloud.\n",
    "- Run the code step-by-step.\n",
    "- Some of the following code snippets needs info/data from the previous steps, so read carefully the comments before running the code cells.\n",
    "- At the end you should have RR- or PP-interval data of one of the selected measurements done with Kubios HRV application and graphical presentations how the heart rate is variating from cycle-to-cycle.\n",
    "\n",
    "### References\n",
    "\n",
    "- [Kubioscloud example for authorization](https://bitbucket.org/kubios/workspace/snippets/4X95xd/kubioscloud-example-for-authorization-code)\n",
    "- [Kubios Cloud API](https://analysis.kubioscloud.com/v1/portal/documentation/apis.html#kubioscloud-api-reference)"
   ]
  },
  {
   "cell_type": "markdown",
   "id": "conditional-attitude",
   "metadata": {},
   "source": [
    "## Setup"
   ]
  },
  {
   "cell_type": "code",
   "execution_count": null,
   "id": "cheap-drinking",
   "metadata": {},
   "outputs": [],
   "source": [
    "#!/usr/bin/env python3\n",
    "\"\"\"Kubioscloud example for Authorization code grant\"\"\"\n",
    "import base64\n",
    "import logging\n",
    "import re\n",
    "import uuid\n",
    "from pprint import pprint\n",
    "\n",
    "import requests\n",
    "\n",
    "import matplotlib.pyplot as plt\n",
    "import numpy as np\n",
    "import urllib"
   ]
  },
  {
   "cell_type": "code",
   "execution_count": null,
   "id": "leading-rebate",
   "metadata": {},
   "outputs": [],
   "source": [
    "# Use your Kubios HRV App username and password\n",
    "USERNAME = \"...\"\n",
    "PASSWORD = \".....\"\n",
    "CLIENT_ID = \"......\"\n",
    "\n",
    "LOGIN_URL = \"https://kubioscloud.auth.eu-west-1.amazoncognito.com/login\"\n",
    "TOKEN_URL = \"https://kubioscloud.auth.eu-west-1.amazoncognito.com/oauth2/token\"\n",
    "REDIRECT_URI = \"https://analysis.kubioscloud.com/v1/portal/login\"\n",
    "\n",
    "USER_AGENT = \"TestApp 1.0\"  # FIXME: Use unique name for your application"
   ]
  },
  {
   "cell_type": "markdown",
   "id": "atlantic-friendship",
   "metadata": {},
   "source": [
    "## Opening a session"
   ]
  },
  {
   "cell_type": "code",
   "execution_count": null,
   "id": "functioning-aside",
   "metadata": {},
   "outputs": [],
   "source": [
    "# Logging info\n",
    "logging.basicConfig(format=\"%(asctime)-15s [%(levelname)s]: %(message)s\")\n",
    "\n",
    "log = logging.getLogger(__name__)\n",
    "log.setLevel(logging.INFO)\n",
    "\n",
    "csrf = str(uuid.uuid4())\n",
    "\n",
    "# Login data structure\n",
    "login_data = {\n",
    "    \"client_id\": CLIENT_ID,\n",
    "    \"redirect_uri\": REDIRECT_URI,\n",
    "    \"username\": USERNAME,\n",
    "    \"password\": PASSWORD,\n",
    "    \"response_type\": \"code\",\n",
    "    \"access_type\": \"offline\",\n",
    "    \"_csrf\": csrf,\n",
    "}\n",
    "\n",
    "# Start a session\n",
    "session = requests.session()\n",
    "\n",
    "# Open a session\n",
    "log.info(\"Authenticating to '%r' with client_id: %r\", LOGIN_URL, CLIENT_ID)\n",
    "login_response = session.post(\n",
    "    LOGIN_URL,\n",
    "    data=login_data,\n",
    "    allow_redirects=False,\n",
    "    headers={\"Cookie\": f\"XSRF-TOKEN={csrf}\", \"User-Agent\": USER_AGENT},\n",
    ")\n",
    "assert (\n",
    "    login_response.status_code == 302\n",
    "), f\"Status: {login_response.status_code}, Authentication failed.\"\n",
    "code = login_response.headers[\"Location\"].split(\"=\")[1]\n",
    "log.info(\"Got code: %r\", code)"
   ]
  },
  {
   "cell_type": "code",
   "execution_count": null,
   "id": "third-remains",
   "metadata": {},
   "outputs": [],
   "source": [
    "# Exchange tokens\n",
    "log.info(\"Exchanging code to tokens\")\n",
    "exch_data = {\n",
    "    \"client_id\": CLIENT_ID,\n",
    "    \"code\": code,\n",
    "    \"redirect_uri\": REDIRECT_URI,\n",
    "    \"grant_type\": \"authorization_code\",\n",
    "}\n",
    "exch_response = session.post(\n",
    "    TOKEN_URL, data=exch_data\n",
    ")\n",
    "log.info(\"Status code %r\", exch_response.status_code)\n",
    "tokens = exch_response.json()"
   ]
  },
  {
   "cell_type": "code",
   "execution_count": null,
   "id": "derived-interim",
   "metadata": {},
   "outputs": [],
   "source": [
    "# What are the possible keys?\n",
    "tokens.keys()"
   ]
  },
  {
   "cell_type": "code",
   "execution_count": null,
   "id": "surprising-clearance",
   "metadata": {},
   "outputs": [],
   "source": [
    "# When do these tokens expire?\n",
    "tokens['expires_in']"
   ]
  },
  {
   "cell_type": "markdown",
   "id": "encouraging-madison",
   "metadata": {},
   "source": [
    "## Reading info"
   ]
  },
  {
   "cell_type": "markdown",
   "id": "abandoned-conditions",
   "metadata": {},
   "source": [
    "### User details"
   ]
  },
  {
   "cell_type": "code",
   "execution_count": null,
   "id": "multiple-hacker",
   "metadata": {},
   "outputs": [],
   "source": [
    "# Read user details and show them user friendly form\n",
    "log.info(\"Query for user details to test obtained credentials\")\n",
    "response = session.get(\n",
    "    \"https://analysis.kubioscloud.com/v1/user/self\",\n",
    "    headers={\"Authorization\": tokens[\"id_token\"], \"User-Agent\": USER_AGENT},\n",
    ")\n",
    "pprint(response.json())"
   ]
  },
  {
   "cell_type": "code",
   "execution_count": null,
   "id": "handed-trunk",
   "metadata": {},
   "outputs": [],
   "source": [
    "# From the previous details copy and paste the user_id (might be team_id)\n",
    "USER_ID = '...'\n",
    "BASE_URL = \"https://analysis.kubioscloud.com\"\n",
    "\n",
    "GET_USER_INFORMATION = BASE_URL + \"/v1/user/{:}\".format(USER_ID)\n",
    "GET_USER_AVATAR_IMAGE = BASE_URL + \"/v1/user/{:}/avatar\".format(USER_ID)\n",
    "SET_USER_AVATAR_IMAGE = BASE_URL + \"/v1/user/{:}/avatar\".format(USER_ID)\n",
    "UPDATE_USER_INFORMATION = BASE_URL + \"/v1/user/{:}\".format(USER_ID)\n",
    "\n",
    "INIT_MEASUREMENT_SESSION = BASE_URL + \"/v2/measure/{:}/session\".format(USER_ID)"
   ]
  },
  {
   "cell_type": "markdown",
   "id": "organized-debate",
   "metadata": {},
   "source": [
    "## List of measurements\n",
    "\n",
    "There are more options, see: [Get list of measurements](https://analysis.kubioscloud.com/v1/portal/documentation/apis.html#get-list-of-measurements)"
   ]
  },
  {
   "cell_type": "code",
   "execution_count": null,
   "id": "recovered-labor",
   "metadata": {},
   "outputs": [],
   "source": [
    "# Get and print the measurements in user friendly format\n",
    "log.info(\"Get list of measurements\")\n",
    "response = session.get(\n",
    "    \"https://analysis.kubioscloud.com/v2/measure/self/session\",\n",
    "    headers={\"Authorization\": tokens[\"id_token\"], \"User-Agent\": USER_AGENT},\n",
    ")\n",
    "pprint(response.json())"
   ]
  },
  {
   "cell_type": "code",
   "execution_count": null,
   "id": "banner-marks",
   "metadata": {},
   "outputs": [],
   "source": [
    "# List and print measure subject in user friendly format\n",
    "log.info(\"List measure subject\")\n",
    "response = session.get(\n",
    "    \"https://analysis.kubioscloud.com/v2/measure/self/subject\",\n",
    "    headers={\"Authorization\": tokens[\"id_token\"], \"User-Agent\": USER_AGENT},\n",
    ")\n",
    "pprint(response.json())"
   ]
  },
  {
   "cell_type": "markdown",
   "id": "stunning-psychology",
   "metadata": {},
   "source": [
    "## Get measurement details"
   ]
  },
  {
   "cell_type": "code",
   "execution_count": null,
   "id": "expired-grass",
   "metadata": {},
   "outputs": [],
   "source": [
    "# From list of measurements copy and paste the measure_id here\n",
    "log.info(\"Get measure details\")\n",
    "measure_id = '...'\n",
    "\n",
    "# Print the details of the measure\n",
    "response = session.get(\n",
    "    \"https://analysis.kubioscloud.com/v2/measure/self/session/\" + measure_id,\n",
    "    headers={\"Authorization\": tokens[\"id_token\"], \"User-Agent\": USER_AGENT},\n",
    ")\n",
    "pprint(response.json())"
   ]
  },
  {
   "cell_type": "markdown",
   "id": "welsh-passport",
   "metadata": {},
   "source": [
    "## Get list of measurements for selected user"
   ]
  },
  {
   "cell_type": "code",
   "execution_count": null,
   "id": "limited-discount",
   "metadata": {},
   "outputs": [],
   "source": [
    "log.info(\"Get list of measurements for a user\")\n",
    "\n",
    "response = session.get(\n",
    "    \"https://analysis.kubioscloud.com/v2/measure/\" + USER_ID + \"/session?from=2021-02-10\",\n",
    "    headers={\"Authorization\": tokens[\"id_token\"], \"User-Agent\": USER_AGENT},\n",
    ")\n",
    "pprint(response.json())"
   ]
  },
  {
   "cell_type": "markdown",
   "id": "closed-plate",
   "metadata": {},
   "source": [
    "## Get all results for a selected user"
   ]
  },
  {
   "cell_type": "code",
   "execution_count": null,
   "id": "ordinary-accordance",
   "metadata": {},
   "outputs": [],
   "source": [
    "# List and print ALL MEASUREMENTS for the selected user\n",
    "log.info(\"Get results\")\n",
    "response = session.get(\n",
    "    \"https://analysis.kubioscloud.com/v1/result/\" + USER_ID,\n",
    "    headers={\"Authorization\": tokens[\"id_token\"], \"User-Agent\": USER_AGENT},\n",
    ")\n",
    "\n",
    "pprint(response.json())"
   ]
  },
  {
   "cell_type": "markdown",
   "id": "gothic-separate",
   "metadata": {},
   "source": [
    "## Select one measure for details"
   ]
  },
  {
   "cell_type": "code",
   "execution_count": null,
   "id": "exclusive-omaha",
   "metadata": {},
   "outputs": [],
   "source": [
    "# Copy and paste one of the measure_id's here and check the details\n",
    "log.info(\"Get measure details\")\n",
    "measure_id = '....'\n",
    "\n",
    "response = session.get(\n",
    "    \"https://analysis.kubioscloud.com/v2/measure/self/session/\" + measure_id,\n",
    "    headers={\"Authorization\": tokens[\"id_token\"], \"User-Agent\": USER_AGENT},\n",
    ")\n",
    "pprint(response.json())"
   ]
  },
  {
   "cell_type": "markdown",
   "id": "every-touch",
   "metadata": {},
   "source": [
    "## Read the data related to measurement"
   ]
  },
  {
   "cell_type": "code",
   "execution_count": null,
   "id": "pleasant-quebec",
   "metadata": {},
   "outputs": [],
   "source": [
    "# Copy and paste the data_url of the selected measurement here to get RR-data\n",
    "data_url = '...'\n",
    "data = urllib.request.urlopen(data_url)\n",
    "byte = data.read(2)\n",
    "rr = []\n",
    "while byte:\n",
    "    rr.append(int.from_bytes(byte, byteorder = \"little\"))\n",
    "    byte = data.read(2)\n",
    "rr = np.array(rr)"
   ]
  },
  {
   "cell_type": "markdown",
   "id": "affected-manual",
   "metadata": {},
   "source": [
    "### Show the RR plot"
   ]
  },
  {
   "cell_type": "code",
   "execution_count": null,
   "id": "affiliated-measurement",
   "metadata": {},
   "outputs": [],
   "source": [
    "x = np.cumsum(rr)/1000\n",
    "plt.plot(x, rr)\n",
    "plt.xlabel('time (s)')\n",
    "plt.ylabel('RR (ms)')\n",
    "plt.grid()\n",
    "plt.show()"
   ]
  },
  {
   "cell_type": "markdown",
   "id": "academic-dispatch",
   "metadata": {},
   "source": [
    "### Show the Heart rate plot"
   ]
  },
  {
   "cell_type": "code",
   "execution_count": null,
   "id": "opened-tampa",
   "metadata": {},
   "outputs": [],
   "source": [
    "bpm = 60*1000/rr\n",
    "plt.plot(x, bpm)\n",
    "plt.xlabel('time (s)')\n",
    "plt.ylabel('Heart rate (BPM)')\n",
    "plt.grid()\n",
    "plt.show()"
   ]
  }
 ],
 "metadata": {
  "kernelspec": {
   "display_name": "Python 3 (ipykernel)",
   "language": "python",
   "name": "python3"
  },
  "language_info": {
   "codemirror_mode": {
    "name": "ipython",
    "version": 3
   },
   "file_extension": ".py",
   "mimetype": "text/x-python",
   "name": "python",
   "nbconvert_exporter": "python",
   "pygments_lexer": "ipython3",
   "version": "3.9.7"
  }
 },
 "nbformat": 4,
 "nbformat_minor": 5
}
