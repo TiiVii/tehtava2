{
 "cells": [
  {
   "cell_type": "markdown",
   "id": "romance-details",
   "metadata": {},
   "source": [
    "# List devices\n",
    "9.2.2022, Sakari Lukkarinen<br>\n",
    "Metropolia University of Applied Sciences<br>\n",
    "\n",
    "## Introduction\n",
    "\n",
    "The aim of this Notebook is to get familiar with the [bleak](https://github.com/hbldh/bleak) - Bluetooth Low Energy Platform for Python. In order to use it, you need first to install it to your Python environment. The easiest way is to remove the comment mark from the `!pip install bleak` code row in the Setup part of this Notebook. \n",
    "\n",
    "You also need to install [nest_asyncio](https://github.com/erdewit/nest_asyncio) library in order that `asyncio` works properly in Notebook. There is also commented line ready for that in the Setup part, search for `!pip install nest_asyncio` code.\n",
    "\n",
    "The first part of this Notebook lists all Bluetooth devices that can be discovered with the [BleakScanner](https://github.com/hbldh/bleak). When the proper Polar heart rate device is found, you need to copy the heart rate device MAC-address to the second part of the Notebook, which shows all the details of the device, including the battery level and measurements types (ECG, PPG, Acceleration, PP interval, etc.) supported by that device.\n",
    "\n",
    "For more information how the `bleak` library works, see https://bleak.readthedocs.io/en/latest/scanning.html#"
   ]
  },
  {
   "cell_type": "markdown",
   "id": "e25789f6-b3e4-487a-a267-c23e946414c1",
   "metadata": {},
   "source": [
    "## Setup\n",
    "\n",
    "- If these libraries are missing from your installation, remove the comment and run once.\n",
    "- When installation is ready, add the comment back."
   ]
  },
  {
   "cell_type": "code",
   "execution_count": null,
   "id": "e0121636-2093-4447-ae0b-80d7607425f0",
   "metadata": {},
   "outputs": [],
   "source": [
    "# !pip install nest_asyncio\n",
    "# !pip install bleak"
   ]
  },
  {
   "cell_type": "code",
   "execution_count": null,
   "id": "158f3cbe-b4b2-4f3f-91b1-aff2e5f82f31",
   "metadata": {},
   "outputs": [],
   "source": [
    "import nest_asyncio\n",
    "nest_asyncio.apply()\n",
    "\n",
    "import asyncio\n",
    "from bleak import BleakScanner, BleakClient"
   ]
  },
  {
   "cell_type": "markdown",
   "id": "deluxe-punch",
   "metadata": {},
   "source": [
    "## List devices\n",
    "\n",
    "- Lists all Bluetooth devices found\n",
    "- Shows the MAC-addresses and the device names\n",
    "- Copy the shown MAC address for Polar device"
   ]
  },
  {
   "cell_type": "code",
   "execution_count": null,
   "id": "mounted-suffering",
   "metadata": {},
   "outputs": [],
   "source": [
    "devices = []\n",
    "\n",
    "async def list_devices():\n",
    "    devices = await BleakScanner.discover()\n",
    "    for d in devices:\n",
    "        print(d)\n",
    "        #if \"Polar\" in d:\n",
    "        #    print('Polar device found!')\n",
    "        print(d.address)\n",
    "        print()\n",
    "\n",
    "asyncio.run(list_devices())"
   ]
  },
  {
   "cell_type": "markdown",
   "id": "lined-forth",
   "metadata": {},
   "source": [
    "## Show details for selected device\n",
    "\n",
    "- Shows the details of the device\n",
    "    - Manufacturer\n",
    "    - Model number\n",
    "    - Battery level\n",
    "    - Data stream options\n",
    "    \n",
    "**Remember to change the address!**"
   ]
  },
  {
   "cell_type": "code",
   "execution_count": null,
   "id": "large-waterproof",
   "metadata": {},
   "outputs": [],
   "source": [
    "## Change the address!!!\n",
    "ADDRESS = \"E3:7B:AA:2D:D5:CD\"\n",
    "\n",
    "MANUFACTURER_NAME_UUID = \"00002a29-0000-1000-8000-00805f9b34fb\"\n",
    "MODEL_NBR_UUID = \"00002a24-0000-1000-8000-00805f9b34fb\"\n",
    "BATTERY_LEVEL_UUID = \"00002a19-0000-1000-8000-00805f9b34fb\"\n",
    "PMD_CONTROL = \"FB005C81-02E7-F387-1CAD-8ACD2D8DF0C8\"\n",
    "\n",
    "async def show_details(address):\n",
    "    client = BleakClient(address)\n",
    "    try:\n",
    "        await client.connect()\n",
    "        manufacturer = await client.read_gatt_char(MANUFACTURER_NAME_UUID)\n",
    "        print(\"Manufacturer:  {0}\".format(\"\".join(map(chr, manufacturer))))\n",
    "\n",
    "        model_number = await client.read_gatt_char(MODEL_NBR_UUID)\n",
    "        print(\"Model Number:  {0}\".format(\"\".join(map(chr, model_number))))\n",
    "\n",
    "        battery = await client.read_gatt_char(BATTERY_LEVEL_UUID)\n",
    "        print(\"Battery level: {0}%\".format(int(battery[0])))\n",
    "        \n",
    "        att_read = await client.read_gatt_char(PMD_CONTROL)\n",
    "        if att_read[0] == 0x0F:\n",
    "            features = att_read[1]\n",
    "            print('Supported measurement types:')\n",
    "            print('    ECG          = ', features&0b000001 != 0)\n",
    "            print('    Acceleration = ', features&0b000100 != 0)\n",
    "            print('    PPG          = ', features&0b000010 != 0)\n",
    "            print('    PP interval  = ', features&0b001000 != 0)\n",
    "            print('    Gyroscope    = ', features&0b010000 != 0)\n",
    "            print('    Magnetometer = ', features&0b100000 != 0)\n",
    "\n",
    "    except Exception as e:\n",
    "        print(e)\n",
    "    finally:\n",
    "        await client.disconnect()\n",
    "\n",
    "asyncio.run(show_details(ADDRESS))"
   ]
  },
  {
   "cell_type": "markdown",
   "id": "9d2db4e2-00d8-4ff1-aba0-ce27a5d9d3e8",
   "metadata": {},
   "source": [
    "## More info\n",
    "- [Polar BLE technical documentation](https://github.com/polarofficial/polar-ble-sdk/tree/master/technical_documentation)\n",
    "- [Polar measurement data specifications for 3rd party](https://github.com/polarofficial/polar-ble-sdk/blob/master/technical_documentation/Polar_Measurement_Data_Specification.pdf)"
   ]
  }
 ],
 "metadata": {
  "kernelspec": {
   "display_name": "Python 3 (ipykernel)",
   "language": "python",
   "name": "python3"
  },
  "language_info": {
   "codemirror_mode": {
    "name": "ipython",
    "version": 3
   },
   "file_extension": ".py",
   "mimetype": "text/x-python",
   "name": "python",
   "nbconvert_exporter": "python",
   "pygments_lexer": "ipython3",
   "version": "3.9.7"
  }
 },
 "nbformat": 4,
 "nbformat_minor": 5
}
