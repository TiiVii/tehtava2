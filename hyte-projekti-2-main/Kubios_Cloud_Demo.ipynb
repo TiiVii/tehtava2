{
 "cells": [
  {
   "cell_type": "markdown",
   "id": "pacific-interval",
   "metadata": {},
   "source": [
    "# Kubios Cloud demo\n",
    "18.2.2022, Sakari Lukkarinen\\\n",
    "Health, Information and Communication Technology\\\n",
    "Metropolia University of Applied Sciences\n",
    "\n",
    "## Introduction\n",
    "\n",
    "The aim of this Notebook is to demonstrate how to ge data from KubiosCloud and show the measurement details. \n",
    "\n",
    "The code is based on the Kubioscloud example for authorization and Kubios Cloud API reference (see the References).\n",
    "\n",
    "### How to use this Notebook\n",
    "\n",
    "- For USERNAME and PASSWORD use the Kubios HRV application username and password.\n",
    "- You can use also the same username and password to login into the Kubios Cloud API.\n",
    "- In addition you need CLIENT_ID to read the data from Kubioscloud.\n",
    "- Run the code step-by-step.\n",
    "- Some of the following code snippets needs info/data from the previous steps, so check carefully how the information is extracted from the JSON data-structures.\n",
    "- At the end you should have RR- or PP-interval data of one of the selected measurements done with Kubios HRV application and graphical presentations how the heart rate is variating from cycle-to-cycle.\n",
    "\n",
    "### References\n",
    "\n",
    "- [Kubioscloud example for authorization](https://bitbucket.org/kubios/workspace/snippets/4X95xd/kubioscloud-example-for-authorization-code)\n",
    "- [Kubios Cloud API reference](https://analysis.kubioscloud.com/v1/portal/documentation/apis.html#kubioscloud-api-reference)"
   ]
  },
  {
   "cell_type": "markdown",
   "id": "conditional-attitude",
   "metadata": {},
   "source": [
    "## Setup"
   ]
  },
  {
   "cell_type": "code",
   "execution_count": null,
   "id": "cheap-drinking",
   "metadata": {},
   "outputs": [],
   "source": [
    "#!/usr/bin/env python3\n",
    "\"\"\"Kubioscloud example for Authorization code grant\"\"\"\n",
    "import base64\n",
    "import logging\n",
    "import re\n",
    "import uuid\n",
    "from pprint import pprint\n",
    "import requests\n",
    "import matplotlib.pyplot as plt\n",
    "import numpy as np\n",
    "import urllib"
   ]
  },
  {
   "cell_type": "code",
   "execution_count": null,
   "id": "leading-rebate",
   "metadata": {},
   "outputs": [],
   "source": [
    "# Use your Kubios HRV App username and password\n",
    "USERNAME = \"...\"\n",
    "PASSWORD = \"...\"\n",
    "CLIENT_ID = \"....\"\n",
    "\n",
    "LOGIN_URL = \"https://kubioscloud.auth.eu-west-1.amazoncognito.com/login\"\n",
    "TOKEN_URL = \"https://kubioscloud.auth.eu-west-1.amazoncognito.com/oauth2/token\"\n",
    "REDIRECT_URI = \"https://analysis.kubioscloud.com/v1/portal/login\"\n",
    "\n",
    "USER_AGENT = \"Hyte 2022\"  # FIXME: Use unique name for your application"
   ]
  },
  {
   "cell_type": "markdown",
   "id": "atlantic-friendship",
   "metadata": {},
   "source": [
    "## Opening a session and get tokens"
   ]
  },
  {
   "cell_type": "code",
   "execution_count": null,
   "id": "f4b4cc20-f114-4723-b01e-291960234457",
   "metadata": {},
   "outputs": [],
   "source": [
    "# Logging info\n",
    "logging.basicConfig(format=\"%(asctime)-15s [%(levelname)s]: %(message)s\")\n",
    "\n",
    "log = logging.getLogger(__name__)\n",
    "log.setLevel(logging.INFO)\n",
    "\n",
    "csrf = str(uuid.uuid4())\n",
    "\n",
    "# Login data structure\n",
    "login_data = {\n",
    "    \"client_id\": CLIENT_ID,\n",
    "    \"redirect_uri\": REDIRECT_URI,\n",
    "    \"username\": USERNAME,\n",
    "    \"password\": PASSWORD,\n",
    "    \"response_type\": \"code\",\n",
    "    \"access_type\": \"offline\",\n",
    "    \"_csrf\": csrf,\n",
    "}\n",
    "\n",
    "# Start a session\n",
    "session = requests.session()\n",
    "\n",
    "# Open a session\n",
    "log.info(\"Authenticating to '%r' with client_id: %r\", LOGIN_URL, CLIENT_ID)\n",
    "login_response = session.post(\n",
    "    LOGIN_URL,\n",
    "    data=login_data,\n",
    "    allow_redirects=False,\n",
    "    headers={\"Cookie\": f\"XSRF-TOKEN={csrf}\", \"User-Agent\": USER_AGENT},\n",
    ")\n",
    "assert (\n",
    "    login_response.status_code == 302\n",
    "), f\"Status: {login_response.status_code}, Authentication failed.\"\n",
    "code = login_response.headers[\"Location\"].split(\"=\")[1]\n",
    "log.info(\"Got code: %r\", code)\n",
    "\n",
    "# Exchange tokens\n",
    "log.info(\"Exchanging code to tokens\")\n",
    "exch_data = {\n",
    "    \"client_id\": CLIENT_ID,\n",
    "    \"code\": code,\n",
    "    \"redirect_uri\": REDIRECT_URI,\n",
    "    \"grant_type\": \"authorization_code\",\n",
    "}\n",
    "exch_response = session.post(\n",
    "    TOKEN_URL, data=exch_data\n",
    ")\n",
    "log.info(\"Status code %r\", exch_response.status_code)\n",
    "tokens = exch_response.json()\n",
    "\n",
    "# What are the possible keys?\n",
    "log.info(tokens.keys())\n",
    "\n",
    "# When do these tokens expire?\n",
    "log.info(f\"Tokens expires in: {tokens['expires_in']} seconds.\")"
   ]
  },
  {
   "cell_type": "markdown",
   "id": "encouraging-madison",
   "metadata": {},
   "source": [
    "## Get user info and results"
   ]
  },
  {
   "cell_type": "markdown",
   "id": "fd1ca42c-4c69-40a2-84a2-4ac831a66c8d",
   "metadata": {},
   "source": [
    "For more details, see:\n",
    "\n",
    "- [KubiosCloud API reference](https://analysis.kubioscloud.com/v2/portal/documentation/apis.html#kubioscloud-api-reference)\n",
    "- [Get user information](https://analysis.kubioscloud.com/v2/portal/documentation/apis.html#get-user-information)\n",
    "- [Get results](https://analysis.kubioscloud.com/v2/portal/documentation/apis.html#get-results)\n",
    "    - For daily readiness results, see the example at the end \"Get results\""
   ]
  },
  {
   "cell_type": "code",
   "execution_count": null,
   "id": "e3d75ff5-1159-4c5a-9c81-916006f4ba73",
   "metadata": {},
   "outputs": [],
   "source": [
    "HEADERS = {\"Authorization\": tokens[\"id_token\"], \"User-Agent\": USER_AGENT}\n",
    "\n",
    "BASE_URL = \"https://analysis.kubioscloud.com\"\n",
    "\n",
    "GET_USER_INFO = BASE_URL + \"/v2/user/self\"\n",
    "GET_RESULT = BASE_URL + \"/v2/result/self\"\n",
    "GET_DAILY_READINESS = BASE_URL + \"/v2/result/self?types=readiness&daily=yes\"\n",
    "\n",
    "## Return personal information for the currently authenticated user ##\n",
    "log.info(\"Get user info\")\n",
    "response = session.get(GET_USER_INFO, headers = HEADERS)\n",
    "user_info = response.json()\n",
    "\n",
    "## To list all results for the current user from the last 30 days (all defaults) ##\n",
    "log.info(\"Get results\")\n",
    "response = session.get(GET_RESULT, headers = HEADERS)\n",
    "result = response.json()\n",
    "\n",
    "## To list only “daily” readiness results ##\n",
    "log.info(\"Get daily readiness results\")\n",
    "response = session.get(GET_DAILY_READINESS, headers = HEADERS)\n",
    "daily_readiness = response.json()"
   ]
  },
  {
   "cell_type": "markdown",
   "id": "940e8e1a-0e2a-4fd7-ad09-07e70b4c0a1b",
   "metadata": {},
   "source": [
    "## Results"
   ]
  },
  {
   "cell_type": "markdown",
   "id": "43cf2df0-55e2-4073-8559-4d607d57e547",
   "metadata": {},
   "source": [
    "### List all readiness and stress index results"
   ]
  },
  {
   "cell_type": "code",
   "execution_count": null,
   "id": "809bcc47-ad22-4c44-b191-566fee5488ca",
   "metadata": {},
   "outputs": [],
   "source": [
    "readiness = []\n",
    "created = []\n",
    "stress_index = []\n",
    "\n",
    "print('  n  Ready Stress   Timestamp')\n",
    "\n",
    "for n, r in enumerate(result['results']):\n",
    "    r_data = r['result']['readiness']\n",
    "    c_stamp = r['create_timestamp']\n",
    "    stress_i = r['result']['stress_index']\n",
    "    readiness.append(r_data)\n",
    "    created.append(c_stamp)\n",
    "    stress_index.append(stress_i)\n",
    "    print(f'{n:3d}  {r_data:5.0f}  {stress_i:5.1f}   {c_stamp}')\n"
   ]
  },
  {
   "cell_type": "markdown",
   "id": "6ff777e0-68cf-4584-b029-05182be77ef4",
   "metadata": {},
   "source": [
    "### First measurement"
   ]
  },
  {
   "cell_type": "code",
   "execution_count": null,
   "id": "c79b4b34-ab7e-4cac-9fde-ef2e76c2443b",
   "metadata": {},
   "outputs": [],
   "source": [
    "result['results'][0]"
   ]
  },
  {
   "cell_type": "markdown",
   "id": "dafe2a16-da36-463f-b30d-c34b79642bc5",
   "metadata": {},
   "source": [
    "### Last measurement"
   ]
  },
  {
   "cell_type": "code",
   "execution_count": null,
   "id": "b26b69c6-53b1-42a0-af14-8961cd6b17e8",
   "metadata": {},
   "outputs": [],
   "source": [
    "result['results'][-1]"
   ]
  },
  {
   "cell_type": "markdown",
   "id": "a61b7120-f5f4-429d-83f0-f485c44d4862",
   "metadata": {},
   "source": [
    "### Measurement details"
   ]
  },
  {
   "cell_type": "code",
   "execution_count": null,
   "id": "6a2a320d-fbe5-4661-b49a-1c22f64f186b",
   "metadata": {},
   "outputs": [],
   "source": [
    "## Get measurement details\n",
    "\n",
    "## First measurement\n",
    "N = 0 \n",
    "MEASURE_ID = result['results'][N]['measure_id']\n",
    "\n",
    "GET_RESULT_INFORMATION = BASE_URL + \"/v2/measure/self/session/\" + MEASURE_ID\n",
    "\n",
    "log.info(\"Get result information\")\n",
    "response = session.get(GET_RESULT_INFORMATION, headers = HEADERS)\n",
    "details = response.json()\n",
    "pprint(details)"
   ]
  },
  {
   "cell_type": "markdown",
   "id": "every-touch",
   "metadata": {},
   "source": [
    "## Read the RR/PPI data"
   ]
  },
  {
   "cell_type": "code",
   "execution_count": null,
   "id": "pleasant-quebec",
   "metadata": {},
   "outputs": [],
   "source": [
    "## Read the DATA_URL and 'measured_timestamp'\n",
    "DATA_URL = details['measure']['channels'][0]['data_url']\n",
    "measured = details['measure']['measured_timestamp']\n",
    "\n",
    "## Read the RR/PPI data from DATA_URL\n",
    "data = urllib.request.urlopen(DATA_URL)\n",
    "byte = data.read(2)\n",
    "rr = []\n",
    "\n",
    "## Convert the binary data to numpy array\n",
    "while byte:\n",
    "    rr.append(int.from_bytes(byte, byteorder = \"little\"))\n",
    "    byte = data.read(2)\n",
    "rr = np.array(rr)"
   ]
  },
  {
   "cell_type": "markdown",
   "id": "affected-manual",
   "metadata": {},
   "source": [
    "### Show the HRV"
   ]
  },
  {
   "cell_type": "code",
   "execution_count": null,
   "id": "affiliated-measurement",
   "metadata": {},
   "outputs": [],
   "source": [
    "## Time is the cumulative sum of rr-data\n",
    "x = np.cumsum(rr)/1000\n",
    "\n",
    "plt.plot(x, rr)\n",
    "plt.xlabel('time (s)')\n",
    "plt.ylabel('RR (ms)')\n",
    "plt.title(measured)\n",
    "plt.grid()\n",
    "plt.show()"
   ]
  },
  {
   "cell_type": "markdown",
   "id": "academic-dispatch",
   "metadata": {},
   "source": [
    "### Show the Heart rate"
   ]
  },
  {
   "cell_type": "code",
   "execution_count": null,
   "id": "opened-tampa",
   "metadata": {},
   "outputs": [],
   "source": [
    "## Heart rate is the inverse of rr (ms)\n",
    "bpm = 60*1000/rr\n",
    "\n",
    "plt.plot(x, bpm)\n",
    "plt.xlabel('time (s)')\n",
    "plt.ylabel('Heart rate (BPM)')\n",
    "plt.title(measured)\n",
    "plt.grid()\n",
    "plt.show()"
   ]
  },
  {
   "cell_type": "code",
   "execution_count": null,
   "id": "4a4842e2-5da5-48e9-8ba4-93072b3f0f84",
   "metadata": {},
   "outputs": [],
   "source": []
  }
 ],
 "metadata": {
  "kernelspec": {
   "display_name": "Python 3 (ipykernel)",
   "language": "python",
   "name": "python3"
  },
  "language_info": {
   "codemirror_mode": {
    "name": "ipython",
    "version": 3
   },
   "file_extension": ".py",
   "mimetype": "text/x-python",
   "name": "python",
   "nbconvert_exporter": "python",
   "pygments_lexer": "ipython3",
   "version": "3.9.7"
  }
 },
 "nbformat": 4,
 "nbformat_minor": 5
}
