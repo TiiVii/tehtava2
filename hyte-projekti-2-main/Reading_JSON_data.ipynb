{
 "cells": [
  {
   "cell_type": "markdown",
   "id": "pacific-interval",
   "metadata": {},
   "source": [
    "# Reading JSON data\n",
    "9.2.2023, Sakari Lukkarinen<br>\n",
    "Health, Information and Communication Technology<br>\n",
    "[Metropolia University of Applied Sciences](https://www.metropolia.fi/en)\n",
    "\n",
    "## Introduction\n",
    "\n",
    "The aim of this Notebook is to demonstrate how to read in JSON data and make some statistics and graphics.\n",
    "\n",
    "The data should be generated with `KubiosCloud Demo 2` Notebook and the datas should be stored in `./json` subfolder.\n",
    "\n",
    "### References\n",
    "\n",
    "- [Kubioscloud example for authorization](https://bitbucket.org/kubios/workspace/snippets/4X95xd/kubioscloud-example-for-authorization-code)\n",
    "- [Kubios Cloud API reference](https://analysis.kubioscloud.com/v1/portal/documentation/apis.html#kubioscloud-api-reference)\n",
    "- [Python JSON](https://www.w3schools.com/python/python_json.asphttps://www.w3schools.com/python/python_json.asp)"
   ]
  },
  {
   "cell_type": "markdown",
   "id": "conditional-attitude",
   "metadata": {},
   "source": [
    "## 1. Setup\n",
    "\n",
    "Import needed modules."
   ]
  },
  {
   "cell_type": "code",
   "execution_count": 1,
   "id": "cheap-drinking",
   "metadata": {},
   "outputs": [],
   "source": [
    "from pprint import pprint\n",
    "import matplotlib.pyplot as plt\n",
    "import numpy as np\n",
    "import pandas as pd\n",
    "import json\n",
    "\n",
    "# Set Pandas' display precision to two decimals\n",
    "pd.options.display.precision = 2"
   ]
  },
  {
   "cell_type": "markdown",
   "id": "85bca42e-3bba-43cd-9387-ad60a4e0403e",
   "metadata": {},
   "source": [
    "## 2. Read user data\n",
    "\n",
    "**Note:** You need to enter these values in Kubios HRV app! If they are missing, you get errors."
   ]
  },
  {
   "cell_type": "code",
   "execution_count": 2,
   "id": "667626fe-a8de-4bfd-bda7-de8276fa2a17",
   "metadata": {},
   "outputs": [
    {
     "name": "stdout",
     "output_type": "stream",
     "text": [
      "User data:\n",
      "  height =  1.89 m\n",
      "  weight =    95 kg\n",
      "  hr_max =   180 bpm\n"
     ]
    }
   ],
   "source": [
    "# Load user data and show some values\n",
    "with open('./json/user_info.json') as json_file:\n",
    "    data = json.load(json_file)\n",
    "user_data = data['user']\n",
    "print('User data:')\n",
    "print(f'  height = {user_data[\"height\"]:5} m')\n",
    "print(f'  weight = {user_data[\"weight\"]:5} kg')\n",
    "print(f'  hr_max = {user_data[\"hr_max\"]:5} bpm')"
   ]
  },
  {
   "cell_type": "markdown",
   "id": "e4f72f49-df48-4790-aacf-cdb09cd5e19e",
   "metadata": {},
   "source": [
    "## Read readiness and stress_index data"
   ]
  },
  {
   "cell_type": "code",
   "execution_count": 3,
   "id": "18a3ead2-06f6-4e8a-847f-bd3b8bb82338",
   "metadata": {},
   "outputs": [],
   "source": [
    "# Load daily readiness data\n",
    "with open('./json/all_results.json') as json_file:\n",
    "    data = json.load(json_file)\n",
    "results = data['results']\n",
    "\n",
    "# Collect daily results from the results\n",
    "daily_result = []\n",
    "readiness = []\n",
    "stress_index = []\n",
    "for n, r in enumerate(results):\n",
    "    daily_result.append(r['daily_result'])\n",
    "    readiness.append(r['result']['readiness'])\n",
    "    stress_index.append(r['result']['stress_index'])\n",
    "\n",
    "# Create Pandas Dataframe for easier handling\n",
    "dict = {'time': daily_result,\n",
    "        'readiness': readiness,\n",
    "        'stress_index': stress_index}\n",
    "df = pd.DataFrame(dict)\n",
    "\n",
    "# Change time to datetime object and set it as index\n",
    "df['time'] = pd.to_datetime(df['time'])\n",
    "df.set_index('time', inplace = True)"
   ]
  },
  {
   "cell_type": "code",
   "execution_count": 4,
   "id": "2a46a265-6b75-4dbd-8105-d399858066dc",
   "metadata": {},
   "outputs": [
    {
     "data": {
      "text/html": [
       "<div>\n",
       "<style scoped>\n",
       "    .dataframe tbody tr th:only-of-type {\n",
       "        vertical-align: middle;\n",
       "    }\n",
       "\n",
       "    .dataframe tbody tr th {\n",
       "        vertical-align: top;\n",
       "    }\n",
       "\n",
       "    .dataframe thead th {\n",
       "        text-align: right;\n",
       "    }\n",
       "</style>\n",
       "<table border=\"1\" class=\"dataframe\">\n",
       "  <thead>\n",
       "    <tr style=\"text-align: right;\">\n",
       "      <th></th>\n",
       "      <th>readiness</th>\n",
       "      <th>stress_index</th>\n",
       "    </tr>\n",
       "    <tr>\n",
       "      <th>time</th>\n",
       "      <th></th>\n",
       "      <th></th>\n",
       "    </tr>\n",
       "  </thead>\n",
       "  <tbody>\n",
       "    <tr>\n",
       "      <th>NaT</th>\n",
       "      <td>83.81</td>\n",
       "      <td>12.40</td>\n",
       "    </tr>\n",
       "    <tr>\n",
       "      <th>2022-03-12</th>\n",
       "      <td>51.35</td>\n",
       "      <td>12.27</td>\n",
       "    </tr>\n",
       "    <tr>\n",
       "      <th>NaT</th>\n",
       "      <td>68.17</td>\n",
       "      <td>10.30</td>\n",
       "    </tr>\n",
       "    <tr>\n",
       "      <th>2022-03-13</th>\n",
       "      <td>69.07</td>\n",
       "      <td>6.24</td>\n",
       "    </tr>\n",
       "    <tr>\n",
       "      <th>2022-03-14</th>\n",
       "      <td>66.96</td>\n",
       "      <td>5.61</td>\n",
       "    </tr>\n",
       "  </tbody>\n",
       "</table>\n",
       "</div>"
      ],
      "text/plain": [
       "            readiness  stress_index\n",
       "time                               \n",
       "NaT             83.81         12.40\n",
       "2022-03-12      51.35         12.27\n",
       "NaT             68.17         10.30\n",
       "2022-03-13      69.07          6.24\n",
       "2022-03-14      66.96          5.61"
      ]
     },
     "execution_count": 4,
     "metadata": {},
     "output_type": "execute_result"
    }
   ],
   "source": [
    "# Show 5 last measurements\n",
    "df.tail(5)"
   ]
  },
  {
   "cell_type": "code",
   "execution_count": 5,
   "id": "005a2fb5-dae6-42e4-9e37-857ca3bb005d",
   "metadata": {},
   "outputs": [
    {
     "data": {
      "text/html": [
       "<div>\n",
       "<style scoped>\n",
       "    .dataframe tbody tr th:only-of-type {\n",
       "        vertical-align: middle;\n",
       "    }\n",
       "\n",
       "    .dataframe tbody tr th {\n",
       "        vertical-align: top;\n",
       "    }\n",
       "\n",
       "    .dataframe thead th {\n",
       "        text-align: right;\n",
       "    }\n",
       "</style>\n",
       "<table border=\"1\" class=\"dataframe\">\n",
       "  <thead>\n",
       "    <tr style=\"text-align: right;\">\n",
       "      <th></th>\n",
       "      <th>count</th>\n",
       "      <th>mean</th>\n",
       "      <th>std</th>\n",
       "      <th>min</th>\n",
       "      <th>25%</th>\n",
       "      <th>50%</th>\n",
       "      <th>75%</th>\n",
       "      <th>max</th>\n",
       "    </tr>\n",
       "  </thead>\n",
       "  <tbody>\n",
       "    <tr>\n",
       "      <th>readiness</th>\n",
       "      <td>87.0</td>\n",
       "      <td>61.06</td>\n",
       "      <td>17.15</td>\n",
       "      <td>11.47</td>\n",
       "      <td>53.63</td>\n",
       "      <td>64.15</td>\n",
       "      <td>69.92</td>\n",
       "      <td>100.00</td>\n",
       "    </tr>\n",
       "    <tr>\n",
       "      <th>stress_index</th>\n",
       "      <td>100.0</td>\n",
       "      <td>9.38</td>\n",
       "      <td>2.49</td>\n",
       "      <td>3.42</td>\n",
       "      <td>8.02</td>\n",
       "      <td>9.15</td>\n",
       "      <td>10.72</td>\n",
       "      <td>19.94</td>\n",
       "    </tr>\n",
       "  </tbody>\n",
       "</table>\n",
       "</div>"
      ],
      "text/plain": [
       "              count   mean    std    min    25%    50%    75%     max\n",
       "readiness      87.0  61.06  17.15  11.47  53.63  64.15  69.92  100.00\n",
       "stress_index  100.0   9.38   2.49   3.42   8.02   9.15  10.72   19.94"
      ]
     },
     "execution_count": 5,
     "metadata": {},
     "output_type": "execute_result"
    }
   ],
   "source": [
    "df.describe().T"
   ]
  },
  {
   "cell_type": "code",
   "execution_count": 6,
   "id": "be031f46-b37b-4f49-beb1-f49cf71e3043",
   "metadata": {},
   "outputs": [
    {
     "data": {
      "image/png": "[encoded data removed]",
      "text/plain": [
       "<Figure size 432x288 with 1 Axes>"
      ]
     },
     "metadata": {
      "needs_background": "light"
     },
     "output_type": "display_data"
    }
   ],
   "source": [
    "df['readiness'].plot(style = 'o-');\n",
    "plt.title('Daily readiness')\n",
    "plt.grid()\n",
    "plt.show()"
   ]
  },
  {
   "cell_type": "markdown",
   "id": "0be9bdc5-7ab5-4264-a99b-c89ad073bbfe",
   "metadata": {},
   "source": [
    "## Read measurement results\n",
    "\n",
    "**NOTE:** You need to change the N."
   ]
  },
  {
   "cell_type": "code",
   "execution_count": 7,
   "id": "d1750ed8-b3d7-4298-9e8f-16f278ce3718",
   "metadata": {},
   "outputs": [
    {
     "name": "stdout",
     "output_type": "stream",
     "text": [
      "Details file = ./json/r_087.json\n",
      "RR file      = ./json/r_087_data.csv\n"
     ]
    }
   ],
   "source": [
    "# Select Nth result\n",
    "N = 87\n",
    "\n",
    "# Construct the filenames and display them\n",
    "details_file = f'./json/r_{N:0=3d}.json'\n",
    "rr_file = f'./json/r_{N:0=3d}_data.csv'\n",
    "\n",
    "print(f'Details file = {details_file}')\n",
    "print(f'RR file      = {rr_file}')"
   ]
  },
  {
   "cell_type": "code",
   "execution_count": 8,
   "id": "30d0d878-37ac-4487-8ccc-38618bb63c26",
   "metadata": {},
   "outputs": [],
   "source": [
    "# Read the details\n",
    "with open(details_file) as json_file:\n",
    "    details = json.load(json_file)\n",
    "# details\n",
    "details['daily_result']"
   ]
  },
  {
   "cell_type": "markdown",
   "id": "every-touch",
   "metadata": {},
   "source": [
    "### Read HRV measurement"
   ]
  },
  {
   "cell_type": "code",
   "execution_count": 9,
   "id": "4dd97719-b441-4efe-996e-b130e8194591",
   "metadata": {},
   "outputs": [
    {
     "data": {
      "text/html": [
       "<div>\n",
       "<style scoped>\n",
       "    .dataframe tbody tr th:only-of-type {\n",
       "        vertical-align: middle;\n",
       "    }\n",
       "\n",
       "    .dataframe tbody tr th {\n",
       "        vertical-align: top;\n",
       "    }\n",
       "\n",
       "    .dataframe thead th {\n",
       "        text-align: right;\n",
       "    }\n",
       "</style>\n",
       "<table border=\"1\" class=\"dataframe\">\n",
       "  <thead>\n",
       "    <tr style=\"text-align: right;\">\n",
       "      <th></th>\n",
       "      <th>rr</th>\n",
       "      <th>heart_rate</th>\n",
       "      <th>time</th>\n",
       "    </tr>\n",
       "  </thead>\n",
       "  <tbody>\n",
       "    <tr>\n",
       "      <th>0</th>\n",
       "      <td>1014</td>\n",
       "      <td>59.17</td>\n",
       "      <td>1.01</td>\n",
       "    </tr>\n",
       "    <tr>\n",
       "      <th>1</th>\n",
       "      <td>990</td>\n",
       "      <td>60.61</td>\n",
       "      <td>2.00</td>\n",
       "    </tr>\n",
       "    <tr>\n",
       "      <th>2</th>\n",
       "      <td>978</td>\n",
       "      <td>61.35</td>\n",
       "      <td>2.98</td>\n",
       "    </tr>\n",
       "    <tr>\n",
       "      <th>3</th>\n",
       "      <td>989</td>\n",
       "      <td>60.67</td>\n",
       "      <td>3.97</td>\n",
       "    </tr>\n",
       "    <tr>\n",
       "      <th>4</th>\n",
       "      <td>925</td>\n",
       "      <td>64.86</td>\n",
       "      <td>4.90</td>\n",
       "    </tr>\n",
       "  </tbody>\n",
       "</table>\n",
       "</div>"
      ],
      "text/plain": [
       "     rr  heart_rate  time\n",
       "0  1014       59.17  1.01\n",
       "1   990       60.61  2.00\n",
       "2   978       61.35  2.98\n",
       "3   989       60.67  3.97\n",
       "4   925       64.86  4.90"
      ]
     },
     "execution_count": 9,
     "metadata": {},
     "output_type": "execute_result"
    }
   ],
   "source": [
    "# Read the data file\n",
    "data = pd.read_csv(rr_file, header = None, names = ['rr'])\n",
    "\n",
    "# Calculate the heart rate (BPM)\n",
    "data['heart_rate'] = 60*1000/data['rr']\n",
    "\n",
    "# Calculate the time (s)\n",
    "data['time'] = data['rr'].cumsum()/1000\n",
    "\n",
    "# Display the head\n",
    "data.head()"
   ]
  },
  {
   "cell_type": "code",
   "execution_count": 10,
   "id": "cc103dcb-2cba-4709-884c-e33edc4deec4",
   "metadata": {},
   "outputs": [
    {
     "data": {
      "text/html": [
       "<div>\n",
       "<style scoped>\n",
       "    .dataframe tbody tr th:only-of-type {\n",
       "        vertical-align: middle;\n",
       "    }\n",
       "\n",
       "    .dataframe tbody tr th {\n",
       "        vertical-align: top;\n",
       "    }\n",
       "\n",
       "    .dataframe thead th {\n",
       "        text-align: right;\n",
       "    }\n",
       "</style>\n",
       "<table border=\"1\" class=\"dataframe\">\n",
       "  <thead>\n",
       "    <tr style=\"text-align: right;\">\n",
       "      <th></th>\n",
       "      <th>count</th>\n",
       "      <th>mean</th>\n",
       "      <th>std</th>\n",
       "      <th>min</th>\n",
       "      <th>25%</th>\n",
       "      <th>50%</th>\n",
       "      <th>75%</th>\n",
       "      <th>max</th>\n",
       "    </tr>\n",
       "  </thead>\n",
       "  <tbody>\n",
       "    <tr>\n",
       "      <th>rr</th>\n",
       "      <td>302.0</td>\n",
       "      <td>992.47</td>\n",
       "      <td>70.22</td>\n",
       "      <td>828.00</td>\n",
       "      <td>938.00</td>\n",
       "      <td>986.00</td>\n",
       "      <td>1044.00</td>\n",
       "      <td>1196.00</td>\n",
       "    </tr>\n",
       "    <tr>\n",
       "      <th>heart_rate</th>\n",
       "      <td>302.0</td>\n",
       "      <td>60.75</td>\n",
       "      <td>4.23</td>\n",
       "      <td>50.17</td>\n",
       "      <td>57.47</td>\n",
       "      <td>60.85</td>\n",
       "      <td>63.97</td>\n",
       "      <td>72.46</td>\n",
       "    </tr>\n",
       "  </tbody>\n",
       "</table>\n",
       "</div>"
      ],
      "text/plain": [
       "            count    mean    std     min     25%     50%      75%      max\n",
       "rr          302.0  992.47  70.22  828.00  938.00  986.00  1044.00  1196.00\n",
       "heart_rate  302.0   60.75   4.23   50.17   57.47   60.85    63.97    72.46"
      ]
     },
     "execution_count": 10,
     "metadata": {},
     "output_type": "execute_result"
    }
   ],
   "source": [
    "# Calculate the descriptive statistics\n",
    "data[['rr', 'heart_rate']].describe().T"
   ]
  },
  {
   "cell_type": "markdown",
   "id": "dbdd2411-702a-400b-907c-7087cb974f4d",
   "metadata": {},
   "source": [
    "### Plot Heart rate variablity (HRV)"
   ]
  },
  {
   "cell_type": "code",
   "execution_count": 11,
   "id": "2e766d06-fd3f-42c5-af58-979c674b4ab5",
   "metadata": {
    "tags": []
   },
   "outputs": [
    {
     "data": {
      "image/png": "[encoded data removed]",
      "text/plain": [
       "<Figure size 432x288 with 1 Axes>"
      ]
     },
     "metadata": {
      "needs_background": "light"
     },
     "output_type": "display_data"
    }
   ],
   "source": [
    "# Sketch a graph of the heart rate variabilty (HRV)\n",
    "data.plot.line(x = 'time', y = 'rr', style = 'g')\n",
    "plt.title(details['daily_result'])\n",
    "plt.ylabel('rr (ms)')\n",
    "plt.xlabel('¨Time (s)')\n",
    "plt.grid()\n",
    "plt.show()"
   ]
  },
  {
   "cell_type": "markdown",
   "id": "69681dd6-b93f-441b-9f53-3db92a83020b",
   "metadata": {},
   "source": [
    "### Plot heart rate (BPM)"
   ]
  },
  {
   "cell_type": "code",
   "execution_count": 12,
   "id": "opened-tampa",
   "metadata": {},
   "outputs": [
    {
     "data": {
      "image/png": "[encoded data removed]",
      "text/plain": [
       "<Figure size 432x288 with 1 Axes>"
      ]
     },
     "metadata": {
      "needs_background": "light"
     },
     "output_type": "display_data"
    }
   ],
   "source": [
    "# Sketch a graph of heart rate\n",
    "data.plot.line(x = 'time', y = 'heart_rate', style = 'r')\n",
    "plt.title(details['daily_result'])\n",
    "plt.ylabel('heart rate (bpm)')\n",
    "plt.xlabel('¨Time (s)')\n",
    "plt.grid()\n",
    "plt.show()"
   ]
  },
  {
   "cell_type": "code",
   "execution_count": null,
   "id": "4589f128-3401-4cd3-84ce-67e6086c96f8",
   "metadata": {},
   "outputs": [],
   "source": []
  }
 ],
 "metadata": {
  "kernelspec": {
   "display_name": "Python 3 (ipykernel)",
   "language": "python",
   "name": "python3"
  },
  "language_info": {
   "codemirror_mode": {
    "name": "ipython",
    "version": 3
   },
   "file_extension": ".py",
   "mimetype": "text/x-python",
   "name": "python",
   "nbconvert_exporter": "python",
   "pygments_lexer": "ipython3",
   "version": "3.9.7"
  }
 },
 "nbformat": 4,
 "nbformat_minor": 5
}
