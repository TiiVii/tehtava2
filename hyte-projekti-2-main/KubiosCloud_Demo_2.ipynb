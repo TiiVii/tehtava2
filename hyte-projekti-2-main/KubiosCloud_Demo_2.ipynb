{
 "cells": [
  {
   "cell_type": "markdown",
   "id": "pacific-interval",
   "metadata": {
    "tags": []
   },
   "source": [
    "# KubiosCloud Demo 2\n",
    "9.2.2023, Sakari Lukkarinen<br>\n",
    "Health, Information and Communication Technology<br>\n",
    "[Metropolia University of Applied Sciences](https://www.metropolia.fi/en)\n",
    "\n",
    "## Introduction\n",
    "\n",
    "The aim of this Notebook is to demonstrate how to ge data from KubiosCloud and show the measurement details. \n",
    "\n",
    "The code is based on the Kubioscloud example for authorization and Kubios Cloud API reference (see the References).\n",
    "\n",
    "### How to use this Notebook\n",
    "\n",
    "- **Before use, create a subfolder `json` where all collected data will be stored.**\n",
    "- For USERNAME and PASSWORD use the Kubios HRV application username and password.\n",
    "- You can use also the same username and password to login into the Kubios Cloud API.\n",
    "- In addition you need CLIENT_ID to read the data from Kubioscloud.\n",
    "- Run the code step-by-step.\n",
    "- Some of the following code snippets needs info/data from the previous steps, so check carefully how the information is extracted from the JSON data-structures.\n",
    "- At the end you should have all your analysis and raw data written into JSON and CSV files.\n",
    "\n",
    "### References\n",
    "\n",
    "- [Kubioscloud example for authorization](https://bitbucket.org/kubios/workspace/snippets/4X95xd/kubioscloud-example-for-authorization-code)\n",
    "- [Kubios Cloud API reference](https://analysis.kubioscloud.com/v1/portal/documentation/apis.html#kubioscloud-api-reference)"
   ]
  },
  {
   "cell_type": "markdown",
   "id": "conditional-attitude",
   "metadata": {},
   "source": [
    "## 1. Setup\n",
    "\n",
    "If some of the libraries are missing, please install them:\n",
    "- Write into to the Notebook cell: `!pip install ....`\n",
    "- Open Anaconda command prompt and give command: `pip install ....`\n",
    "- Open Anaconda Navigator > Environments and install missing packages"
   ]
  },
  {
   "cell_type": "code",
   "execution_count": null,
   "id": "cheap-drinking",
   "metadata": {},
   "outputs": [],
   "source": [
    "#!/usr/bin/env python3\n",
    "\n",
    "import base64\n",
    "import logging\n",
    "import re\n",
    "import uuid\n",
    "from pprint import pprint\n",
    "import requests\n",
    "import matplotlib.pyplot as plt\n",
    "import numpy as np\n",
    "import urllib\n",
    "import json"
   ]
  },
  {
   "cell_type": "code",
   "execution_count": null,
   "id": "leading-rebate",
   "metadata": {},
   "outputs": [],
   "source": [
    "# Use your Kubios HRV App username and password\n",
    "USERNAME = \"...\"\n",
    "PASSWORD = \"...\"\n",
    "\n",
    "# Client ID is given in a separate document found from OMA workspace\n",
    "CLIENT_ID = \"...\"\n",
    "\n",
    "\n",
    "LOGIN_URL = \"https://kubioscloud.auth.eu-west-1.amazoncognito.com/login\"\n",
    "TOKEN_URL = \"https://kubioscloud.auth.eu-west-1.amazoncognito.com/oauth2/token\"\n",
    "REDIRECT_URI = \"https://analysis.kubioscloud.com/v1/portal/login\"\n",
    "\n",
    "USER_AGENT = \"Hyte 2022\"  # FIXME: Use unique name for your application"
   ]
  },
  {
   "cell_type": "markdown",
   "id": "atlantic-friendship",
   "metadata": {},
   "source": [
    "## 2. Opening a session and get tokens"
   ]
  },
  {
   "cell_type": "code",
   "execution_count": null,
   "id": "f4b4cc20-f114-4723-b01e-291960234457",
   "metadata": {},
   "outputs": [],
   "source": [
    "# Logging info\n",
    "logging.basicConfig(format=\"%(asctime)-15s [%(levelname)s]: %(message)s\")\n",
    "\n",
    "log = logging.getLogger(__name__)\n",
    "log.setLevel(logging.INFO)\n",
    "\n",
    "csrf = str(uuid.uuid4())\n",
    "\n",
    "## Login data structure\n",
    "login_data = {\n",
    "    \"client_id\": CLIENT_ID,\n",
    "    \"redirect_uri\": REDIRECT_URI,\n",
    "    \"username\": USERNAME,\n",
    "    \"password\": PASSWORD,\n",
    "    \"response_type\": \"code\",\n",
    "    \"access_type\": \"offline\",\n",
    "    \"_csrf\": csrf,\n",
    "}\n",
    "\n",
    "## Start a session\n",
    "session = requests.session()\n",
    "\n",
    "## Open a session\n",
    "log.info(\"Authenticating to '%r' with client_id: %r\", LOGIN_URL, CLIENT_ID)\n",
    "login_response = session.post(\n",
    "    LOGIN_URL,\n",
    "    data=login_data,\n",
    "    allow_redirects=False,\n",
    "    headers={\"Cookie\": f\"XSRF-TOKEN={csrf}\", \"User-Agent\": USER_AGENT},\n",
    ")\n",
    "\n",
    "## Error handling\n",
    "assert (\n",
    "    login_response.status_code == 302\n",
    "), f\"Status: {login_response.status_code}, Authentication failed.\"\n",
    "\n",
    "## Get the code\n",
    "code = login_response.headers[\"Location\"].split(\"=\")[1]\n",
    "log.info(\"Got code: %r\", code)\n",
    "\n",
    "## Exchange tokens\n",
    "log.info(\"Exchanging code to tokens\")\n",
    "exch_data = {\n",
    "    \"client_id\": CLIENT_ID,\n",
    "    \"code\": code,\n",
    "    \"redirect_uri\": REDIRECT_URI,\n",
    "    \"grant_type\": \"authorization_code\",\n",
    "}\n",
    "\n",
    "exch_response = session.post(\n",
    "    TOKEN_URL, data=exch_data\n",
    ")\n",
    "log.info(\"Status code %r\", exch_response.status_code)\n",
    "tokens = exch_response.json()\n",
    "\n",
    "# What are the possible keys?\n",
    "log.info(tokens.keys())\n",
    "\n",
    "# When do these tokens expire?\n",
    "log.info(f\"Tokens expires in: {tokens['expires_in']} seconds.\")\n",
    "\n",
    "## Show the id_token\n",
    "log.info(\"id_token: %r\", tokens['id_token'])"
   ]
  },
  {
   "cell_type": "markdown",
   "id": "encouraging-madison",
   "metadata": {},
   "source": [
    "## 3. Get user info and results"
   ]
  },
  {
   "cell_type": "markdown",
   "id": "fd1ca42c-4c69-40a2-84a2-4ac831a66c8d",
   "metadata": {},
   "source": [
    "For more details, see:\n",
    "\n",
    "- [KubiosCloud API reference](https://analysis.kubioscloud.com/v2/portal/documentation/apis.html#kubioscloud-api-reference)\n",
    "- [Get user information](https://analysis.kubioscloud.com/v2/portal/documentation/apis.html#get-user-information)\n",
    "- [Get results](https://analysis.kubioscloud.com/v2/portal/documentation/apis.html#get-results)\n",
    "    - For daily readiness results, see the example at the end \"Get results\"\n",
    "    \n",
    " NOTE: **You need to create a subfolder `json` where all collected data will be stored.**"
   ]
  },
  {
   "cell_type": "code",
   "execution_count": null,
   "id": "b886a963-06c7-4c88-9a96-ed286cdacbd2",
   "metadata": {},
   "outputs": [],
   "source": [
    "import datetime\n",
    "\n",
    "d = datetime.datetime(2020,1,1,0,0)\n",
    "print(d)\n",
    "print(d.isoformat())"
   ]
  },
  {
   "cell_type": "code",
   "execution_count": null,
   "id": "a3834d4c-7d91-4d7e-9b13-c146b1992dd6",
   "metadata": {},
   "outputs": [],
   "source": [
    "## Create headers\n",
    "HEADERS = {\"Authorization\": tokens[\"id_token\"], \"User-Agent\": USER_AGENT}\n",
    "\n",
    "## Create URLS\n",
    "BASE_URL = \"https://analysis.kubioscloud.com\"\n",
    "GET_USER_INFO = BASE_URL + \"/v2/user/self\"\n",
    "GET_RESULT = BASE_URL + \"/v2/result/self\" + \"?from=2020-01-01T00%3A00%3A00%2B00%3A00\"\n",
    "GET_DAILY_READINESS = BASE_URL + \"/v2/result/self?types=readiness&daily=yes\"\n",
    "\n",
    "\n",
    "## Return personal information for the currently authenticated user ##\n",
    "log.info(\"Get user info\")\n",
    "response = session.get(GET_USER_INFO, headers = HEADERS)\n",
    "user_info = response.json()\n",
    "\n",
    "with open(\"./json/user_info.json\", \"w\") as outfile:\n",
    "    json.dump(user_info, outfile)\n",
    "log.info(\"Wrote user info to JSON file.\")\n",
    "\n",
    "\n",
    "## List all results for the current user from the last 30 days (all defaults) ##\n",
    "log.info(\"Get results\")\n",
    "response = session.get(GET_RESULT, headers = HEADERS)\n",
    "all_results = response.json()\n",
    "\n",
    "# You need to create a subfolder json in order this works\n",
    "with open(\"./json/all_results.json\", \"w\") as outfile:\n",
    "    json.dump(all_results, outfile)\n",
    "log.info(\"Wrote results to JSON file.\")\n",
    "\n",
    "\n",
    "## List only “daily” readiness results ##\n",
    "log.info(\"Get daily readiness results\")\n",
    "response = session.get(GET_DAILY_READINESS, headers = HEADERS)\n",
    "daily_readiness = response.json()\n",
    "   \n",
    "with open(\"./json/daily_readiness.json\", \"w\") as outfile:\n",
    "    json.dump(daily_readiness, outfile)\n",
    "log.info(\"Wrote daily readiness results to JSON file.\")"
   ]
  },
  {
   "cell_type": "markdown",
   "id": "940e8e1a-0e2a-4fd7-ad09-07e70b4c0a1b",
   "metadata": {},
   "source": [
    "## 3. All results"
   ]
  },
  {
   "cell_type": "markdown",
   "id": "43cf2df0-55e2-4073-8559-4d607d57e547",
   "metadata": {},
   "source": [
    "Read all measurement results from Kubios Cloud service and write them to JSON and CSV files into subfolder `json`."
   ]
  },
  {
   "cell_type": "code",
   "execution_count": null,
   "id": "809bcc47-ad22-4c44-b191-566fee5488ca",
   "metadata": {},
   "outputs": [],
   "source": [
    "readiness = []\n",
    "created = []\n",
    "stress_index = []\n",
    "\n",
    "# print('  n  Ready Stress   Timestamp')\n",
    "\n",
    "for n, r in enumerate(all_results['results']):\n",
    "    r_data = r['result']['readiness']\n",
    "    c_stamp = r['create_timestamp']\n",
    "    stress_i = r['result']['stress_index']\n",
    "    readiness.append(r_data)\n",
    "    created.append(c_stamp)\n",
    "    stress_index.append(stress_i)\n",
    "    filename = c_stamp[:19].replace(':','.')\n",
    "    # print(f'{n:3d}  {r_data:5.0f}  {stress_i:5.1f}   {filename}')\n",
    "    \n",
    "    with open(f'./json/r_{n:0=3d}.json', \"w\") as outfile:\n",
    "        json.dump(r, outfile)\n",
    "        \n",
    "    MEASURE_ID = r['measure_id']\n",
    "    GET_RESULT_INFORMATION = BASE_URL + \"/v2/measure/self/session/\" + MEASURE_ID\n",
    "    response = session.get(GET_RESULT_INFORMATION, headers = HEADERS)\n",
    "    details = response.json()\n",
    "    \n",
    "    with open(f'./json/r_{n:0=3d}_details.json', \"w\") as outfile:\n",
    "        json.dump(details, outfile)\n",
    "\n",
    "    ## Read the DATA_URL and 'measured_timestamp'\n",
    "    DATA_URL = details['measure']['channels'][0]['data_url']\n",
    "    measured = details['measure']['measured_timestamp']\n",
    "\n",
    "    ## Read the RR/PPI data from DATA_URL\n",
    "    data = urllib.request.urlopen(DATA_URL)\n",
    "    byte = data.read(2)\n",
    "    rr = []\n",
    "\n",
    "    ## Convert the binary data to numpy array\n",
    "    while byte:\n",
    "        rr.append(int.from_bytes(byte, byteorder = \"little\"))\n",
    "        byte = data.read(2)\n",
    "    rr = np.array(rr)\n",
    "    \n",
    "    np.savetxt(f'./json/r_{n:0=3d}_data.csv', rr, fmt=\"%d\", delimiter=\",\")\n",
    "    \n",
    "    log.info(f'Wrote results {n:0=3d} JSON and CSV files.')"
   ]
  },
  {
   "cell_type": "markdown",
   "id": "456e1fa3-c5d0-4250-9fed-7b65b3b28265",
   "metadata": {},
   "source": [
    "Next continue processing the data with *Reading JSON data.ipynb*."
   ]
  },
  {
   "cell_type": "code",
   "execution_count": null,
   "id": "fa775f63-9d9b-4fef-8085-f36785cf0909",
   "metadata": {},
   "outputs": [],
   "source": []
  }
 ],
 "metadata": {
  "kernelspec": {
   "display_name": "Python 3 (ipykernel)",
   "language": "python",
   "name": "python3"
  },
  "language_info": {
   "codemirror_mode": {
    "name": "ipython",
    "version": 3
   },
   "file_extension": ".py",
   "mimetype": "text/x-python",
   "name": "python",
   "nbconvert_exporter": "python",
   "pygments_lexer": "ipython3",
   "version": "3.9.7"
  }
 },
 "nbformat": 4,
 "nbformat_minor": 5
}
