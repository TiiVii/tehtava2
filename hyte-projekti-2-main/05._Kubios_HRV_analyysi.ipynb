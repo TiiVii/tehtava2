{
 "cells": [
  {
   "cell_type": "markdown",
   "id": "pleasant-bahrain",
   "metadata": {},
   "source": [
    "# Kubios HRV analyysi\n",
    "\n",
    "Fysiologiset mittaukset ja anturit 2022<br>\n",
    "Sakari Lukkarinen ja Saana Vallius<br>\n",
    "Metropolia Ammattikorkeakoulu\n",
    "\n",
    "Perustuu esimerkkeihin:\n",
    "\n",
    "- [Kubioscloud example for Authorization code grant](https://bitbucket.org/kubios/workspace/snippets/4X95xd/kubioscloud-example-for-authorization-code)\n",
    "- [KubiosCloud Client](https://bitbucket.org/kubios/kub-kubioscloud-cli/src/master/)\n",
    "\n",
    "Katso myös: \n",
    "- [KubiosCloud API Documentation](https://analysis.kubioscloud.com/v1/portal/documentation/apis.html#kubioscloud-api-reference)"
   ]
  },
  {
   "cell_type": "markdown",
   "id": "helpful-delight",
   "metadata": {},
   "source": [
    "## Asetukset\n",
    "\n",
    "Luetaan tarvittavat kirjastot."
   ]
  },
  {
   "cell_type": "code",
   "execution_count": 1,
   "id": "awful-persian",
   "metadata": {},
   "outputs": [],
   "source": [
    "#!/usr/bin/env python3\n",
    "import numpy as np\n",
    "import requests\n",
    "\n",
    "DEBUG = False"
   ]
  },
  {
   "cell_type": "markdown",
   "id": "cooperative-metabolism",
   "metadata": {},
   "source": [
    "## Avaimet\n",
    "\n",
    "Avaimet löytyvät erillisestä työtilan dokumentista.\n",
    "\n",
    "KubiosCloud API dokumentaation kohdassa [Analytics Endpoint](https://analysis.kubioscloud.com/v1/portal/documentation/apis.html#analytics-endpoint) on kerrottu, että kaikki tämän kohdan toiminnot vaativat toimiakseen APIKEY autentikoinnin. Siksi alla on APIKEY -avaimet."
   ]
  },
  {
   "cell_type": "code",
   "execution_count": 2,
   "id": "perfect-filing",
   "metadata": {},
   "outputs": [],
   "source": [
    "APIKEY = \"\"\n",
    "CLIENT_ID = \"\"\n",
    "CLIENT_SECRET = \"\"\n",
    "\n",
    "LOGIN_URL = \"https://kubioscloud.auth.eu-west-1.amazoncognito.com/login\"\n",
    "TOKEN_URL = \"https://kubioscloud.auth.eu-west-1.amazoncognito.com/oauth2/token\"\n",
    "REDIRECT_URI = \"https://analysis.kubioscloud.com/v1/portal/login\""
   ]
  },
  {
   "cell_type": "markdown",
   "id": "placed-variance",
   "metadata": {},
   "source": [
    "## Sisäänpääsyvaltuudet\n",
    "\n",
    "Seurataan suoraan esimerkkejä kuinka saadaan sisäänpääsyvaltuudet (access token)."
   ]
  },
  {
   "cell_type": "code",
   "execution_count": 3,
   "id": "cheap-latvia",
   "metadata": {},
   "outputs": [],
   "source": [
    "response = requests.post(\n",
    "    url = TOKEN_URL, \n",
    "    data = {'client_id': CLIENT_ID, 'grant_type': 'client_credentials'}, \n",
    "    auth = (CLIENT_ID, CLIENT_SECRET)).json()\n",
    "access_token = response[\"access_token\"]\n",
    "\n",
    "if DEBUG:\n",
    "    print(access_token)"
   ]
  },
  {
   "cell_type": "markdown",
   "id": "contained-physics",
   "metadata": {},
   "source": [
    "## Avataan istunto (session)\n",
    "\n",
    "Muodostetaan `requests` istunto, jolle on annettu vaadittava API avain ja sisäänpääsyvaltuudet."
   ]
  },
  {
   "cell_type": "code",
   "execution_count": 4,
   "id": "otherwise-reference",
   "metadata": {},
   "outputs": [],
   "source": [
    "headers = {\n",
    "    \"Authorization\": \"Bearer {}\".format(access_token),\n",
    "    \"X-Api-Key\": APIKEY,\n",
    "}\n",
    "reqs = requests.Session()\n",
    "reqs.headers.update(headers)\n",
    "\n",
    "if DEBUG:\n",
    "    print(headers)"
   ]
  },
  {
   "cell_type": "markdown",
   "id": "dcb22beb-7cb2-4a87-a324-11498d4a6531",
   "metadata": {},
   "source": [
    "## Lue hrv data tiedostosta ja muodosta datasetti\n",
    "\n",
    "Luetaan Biopac EKG-signaalista laskettu RR-intervallidata ja muodostetaan KubiosCloudin ymmärtämä json muotoinen datasetti."
   ]
  },
  {
   "cell_type": "code",
   "execution_count": 5,
   "id": "49c47f94-0f79-4ed1-9bb0-3608dacd23a9",
   "metadata": {},
   "outputs": [],
   "source": [
    "# Lue HRV data\n",
    "data = np.genfromtxt('hrv_data.csv', skip_header = 1).squeeze().tolist()\n",
    "\n",
    "if DEBUG:\n",
    "    print(data)"
   ]
  },
  {
   "cell_type": "code",
   "execution_count": 6,
   "id": "8e9709dd-365b-4613-a66e-00d3fd6dba8c",
   "metadata": {},
   "outputs": [],
   "source": [
    "# Muodosta data_set\n",
    "data_set = {\"format\": \"RR\",\n",
    "            \"data\": [\n",
    "                { \"values\": data} ] }\n",
    "if DEBUG:\n",
    "    print(data_set)"
   ]
  },
  {
   "cell_type": "markdown",
   "id": "capable-conversation",
   "metadata": {},
   "source": [
    "## HRV analyysi\n",
    "\n",
    "Kutsutaan KubiosCloudin readiness analyysia käyttäen muodostettua dataa. Data annetaan `requests` metodin `json`kenttään. Tuloksena saadaan `response`, joka näytetään json-muodossa."
   ]
  },
  {
   "cell_type": "code",
   "execution_count": 7,
   "id": "aboriginal-companion",
   "metadata": {},
   "outputs": [
    {
     "name": "stdout",
     "output_type": "stream",
     "text": [
      "{'analysis': {'artefact': 2.8332823225919275, 'artefact_level': 'GOOD', 'create_timestamp': '2023-02-01T20:08:40.649328+00:00', 'freq_domain': {'HF_peak': 0.16666666666666666, 'HF_power': 1398.4412111123454, 'HF_power_nu': 10.81498955001239, 'HF_power_prc': 10.404032925912812, 'LF_HF_power': 8.245714133188896, 'LF_peak': 0.1, 'LF_power': 11531.146458902862, 'LF_power_nu': 89.17731218282738, 'LF_power_prc': 85.78868133936189, 'VLF_peak': 0.04, 'VLF_power': 510.7547060456089, 'VLF_power_prc': 3.7998799924786653, 'tot_power': 13441.337806893294}, 'mean_hr_bpm': 93.3623443230236, 'mean_rr_ms': 642.6573843562292, 'pns_index': -0.8901703957732948, 'readiness': 62.5, 'respiratory_rate': 14.81, 'rmssd_ms': 59.165619340626556, 'sd1_ms': 41.93493665168639, 'sd2_ms': 120.85835498737853, 'sdnn_ms': 90.32084588745668, 'sns_index': 1.534449148664106, 'stress_index': 7.29614165035525}, 'status': 'ok'}\n"
     ]
    }
   ],
   "source": [
    "# Make the readiness analysis with the given data\n",
    "response = reqs.request('POST', \n",
    "                        url = \"https://analysis.kubioscloud.com/v1/analytics/readiness\",\n",
    "                        params = None, \n",
    "                        json = data_set).json()\n",
    "print(response)"
   ]
  },
  {
   "cell_type": "markdown",
   "id": "196b7690-fade-4f46-800a-10c6b7e6944d",
   "metadata": {},
   "source": [
    "Poimitaan analysis-rakenne ja näytetään siitä muutamia analyysituloksia."
   ]
  },
  {
   "cell_type": "code",
   "execution_count": 8,
   "id": "5ebbe3cd-e690-4b21-ac19-a4af49afe4bf",
   "metadata": {},
   "outputs": [
    {
     "name": "stdout",
     "output_type": "stream",
     "text": [
      "mean_hr_bpm:        93\n",
      "mean_rr_ms:        643\n",
      "rmssd_ms:           59\n",
      "respiratory_rate:  14.8\n",
      "sns_index:         1.53\n",
      "pns_index:        -0.89\n"
     ]
    }
   ],
   "source": [
    "analysis = response['analysis']\n",
    "\n",
    "print(f\"mean_hr_bpm:      {analysis['mean_hr_bpm']:4.0f}\")\n",
    "print(f\"mean_rr_ms:       {analysis['mean_rr_ms']:4.0f}\")\n",
    "print(f\"rmssd_ms:         {analysis['rmssd_ms']:4.0f}\")\n",
    "print(f\"respiratory_rate: {analysis['respiratory_rate']:5.1f}\")\n",
    "print(f\"sns_index:        {analysis['sns_index']:5.2f}\")\n",
    "print(f\"pns_index:        {analysis['pns_index']:5.2f}\")"
   ]
  },
  {
   "cell_type": "markdown",
   "id": "20a980f0-903c-4464-ac22-88e4f4fcc912",
   "metadata": {},
   "source": [
    "## Lisäasetukset\n",
    "\n",
    "Näitä kirjastoja tarvitaan visualisointia ja tulosten tarkastelua varten"
   ]
  },
  {
   "cell_type": "code",
   "execution_count": 9,
   "id": "b0042b5a-5e4f-4d8e-9d4a-1819ddbe79da",
   "metadata": {},
   "outputs": [],
   "source": [
    "from pprint import pprint\n",
    "import pandas as pd\n",
    "import matplotlib.pyplot as plt"
   ]
  },
  {
   "cell_type": "markdown",
   "id": "removed-times",
   "metadata": {},
   "source": [
    "## Muunnetaan tulos DataFrameksi\n",
    "\n",
    "Muunnetaan tulos pandasin DataFrameksi [json_normalize](https://pandas.pydata.org/pandas-docs/stable/reference/api/pandas.json_normalize.html) metodilla ja näytetään se [transpose](https://pandas.pydata.org/pandas-docs/stable/reference/api/pandas.DataFrame.transpose.html)-muodossa."
   ]
  },
  {
   "cell_type": "code",
   "execution_count": 10,
   "id": "rational-chocolate",
   "metadata": {},
   "outputs": [
    {
     "name": "stdout",
     "output_type": "stream",
     "text": [
      "                                                                   0\n",
      "status                                                            ok\n",
      "analysis.artefact                                           2.833282\n",
      "analysis.artefact_level                                         GOOD\n",
      "analysis.create_timestamp           2023-02-01T20:08:40.649328+00:00\n",
      "analysis.freq_domain.HF_peak                                0.166667\n",
      "analysis.freq_domain.HF_power                            1398.441211\n",
      "analysis.freq_domain.HF_power_nu                            10.81499\n",
      "analysis.freq_domain.HF_power_prc                          10.404033\n",
      "analysis.freq_domain.LF_HF_power                            8.245714\n",
      "analysis.freq_domain.LF_peak                                     0.1\n",
      "analysis.freq_domain.LF_power                           11531.146459\n",
      "analysis.freq_domain.LF_power_nu                           89.177312\n",
      "analysis.freq_domain.LF_power_prc                          85.788681\n",
      "analysis.freq_domain.VLF_peak                                   0.04\n",
      "analysis.freq_domain.VLF_power                            510.754706\n",
      "analysis.freq_domain.VLF_power_prc                           3.79988\n",
      "analysis.freq_domain.tot_power                          13441.337807\n",
      "analysis.mean_hr_bpm                                       93.362344\n",
      "analysis.mean_rr_ms                                       642.657384\n",
      "analysis.pns_index                                          -0.89017\n",
      "analysis.readiness                                              62.5\n",
      "analysis.respiratory_rate                                      14.81\n",
      "analysis.rmssd_ms                                          59.165619\n",
      "analysis.sd1_ms                                            41.934937\n",
      "analysis.sd2_ms                                           120.858355\n",
      "analysis.sdnn_ms                                           90.320846\n",
      "analysis.sns_index                                          1.534449\n",
      "analysis.stress_index                                       7.296142\n"
     ]
    }
   ],
   "source": [
    "dataframe = pd.json_normalize(response)\n",
    "pprint(dataframe.T)"
   ]
  },
  {
   "cell_type": "markdown",
   "id": "45238a50-f06b-4b28-89d8-d16972e93819",
   "metadata": {},
   "source": [
    "### Lisätietoa\n",
    "\n",
    "- [Kubios HRV analysis methods](https://www.kubios.com/hrv-analysis-methods/)"
   ]
  },
  {
   "cell_type": "markdown",
   "id": "80afb1f0-a090-498b-8aa6-4146efc0b10a",
   "metadata": {},
   "source": [
    "## Näytä PNS ja SNS indeksit"
   ]
  },
  {
   "cell_type": "code",
   "execution_count": 11,
   "id": "63932dc0-75e1-4cc5-84d7-26c9393635c5",
   "metadata": {},
   "outputs": [
    {
     "data": {
      "image/png": "[encoded data removed]",
      "text/plain": [
       "<Figure size 720x144 with 1 Axes>"
      ]
     },
     "metadata": {
      "needs_background": "light"
     },
     "output_type": "display_data"
    },
    {
     "data": {
      "image/png": "[encoded data removed]",
      "text/plain": [
       "<Figure size 720x144 with 1 Axes>"
      ]
     },
     "metadata": {
      "needs_background": "light"
     },
     "output_type": "display_data"
    }
   ],
   "source": [
    "pns_index = dataframe['analysis.pns_index']\n",
    "sns_index = dataframe['analysis.sns_index']\n",
    "\n",
    "def add_lines():\n",
    "    plt.axvline(0, color = 'gray', lw = 3)\n",
    "    plt.axvline(-1, color = 'gray')\n",
    "    plt.axvline(+1, color = 'gray')\n",
    "    plt.axvline(-2, color = 'gray', ls = '-.')\n",
    "    plt.axvline(+2, color = 'gray', ls = '-.')\n",
    "    plt.axvline(-3, color = 'gray', ls = ':')\n",
    "    plt.axvline(+3, color = 'gray', ls = ':')\n",
    "\n",
    "fig = plt.figure(figsize = (10, 2))\n",
    "pns_index.plot.barh(bottom = 5, color = 'royalblue')\n",
    "plt.title('Parasympathetic tone (recovery)')\n",
    "plt.xlim(-3.5, +3.5)\n",
    "add_lines()\n",
    "\n",
    "fig = plt.figure(figsize = (10, 2))\n",
    "sns_index.plot.barh(color = 'orange')\n",
    "plt.title('Sympathetic tone (stress)')\n",
    "plt.xlim(3.5, -3.5)\n",
    "add_lines()\n",
    "\n",
    "plt.show()"
   ]
  },
  {
   "cell_type": "markdown",
   "id": "258feea5-2da2-4243-a1e3-43af0e1020e0",
   "metadata": {},
   "source": [
    "### Lisätietoa\n",
    "\n",
    "- [HRV in evaluating ANS function](https://www.kubios.com/hrv-ans-function/)"
   ]
  },
  {
   "cell_type": "markdown",
   "id": "b0d166e5-9275-4021-b558-31b981fa6d3d",
   "metadata": {},
   "source": [
    "## Näytä taajuusalueiden tehot"
   ]
  },
  {
   "cell_type": "code",
   "execution_count": 12,
   "id": "b3ca2ab4-8220-4f82-91c0-462c7e5fa7bc",
   "metadata": {},
   "outputs": [
    {
     "data": {
      "image/png": "[encoded data removed]",
      "text/plain": [
       "<Figure size 432x288 with 1 Axes>"
      ]
     },
     "metadata": {
      "needs_background": "light"
     },
     "output_type": "display_data"
    }
   ],
   "source": [
    "# Näytä taajuusalueiden tehot\n",
    "vlf_power = dataframe['analysis.freq_domain.VLF_power_prc'].values\n",
    "lf_power = dataframe['analysis.freq_domain.LF_power_prc'].values\n",
    "hf_power = dataframe['analysis.freq_domain.HF_power_prc'].values\n",
    "\n",
    "power_data = np.concatenate((vlf_power, lf_power, hf_power))\n",
    "columns = ['VLF\\n0 - 0.04 Hz', 'LF\\n0.04 - 0.15 Hz', 'HF\\n0.15 - 0.40 Hz']\n",
    "colors = ['gray', 'orange', 'cornflowerblue']\n",
    "plt.bar(columns, power_data, color = colors)\n",
    "plt.title('Taajuusanalyysi')\n",
    "plt.ylabel('Osuus (%)')\n",
    "plt.grid()\n",
    "plt.show()"
   ]
  },
  {
   "cell_type": "markdown",
   "id": "a8f4d7d4-9aeb-4761-bebc-a0ef4bb04d96",
   "metadata": {},
   "source": [
    "### Lisätietoa \n",
    "\n",
    "- [About HRV](https://www.kubios.com/about-hrv/)\n",
    "- [Kubios HRV analysis methods](https://www.kubios.com/hrv-analysis-methods/)\n",
    "- [HRV in evaluating ANS function](https://www.kubios.com/hrv-ans-function/)\n",
    "- [Kubios HRV Users Guide](https://www.kubios.com/downloads/Kubios_HRV_Users_Guide.pdf)\n",
    "- [List of named colors (matplotlib)](https://matplotlib.org/3.1.0/gallery/color/named_colors.html)"
   ]
  }
 ],
 "metadata": {
  "kernelspec": {
   "display_name": "Python 3 (ipykernel)",
   "language": "python",
   "name": "python3"
  },
  "language_info": {
   "codemirror_mode": {
    "name": "ipython",
    "version": 3
   },
   "file_extension": ".py",
   "mimetype": "text/x-python",
   "name": "python",
   "nbconvert_exporter": "python",
   "pygments_lexer": "ipython3",
   "version": "3.9.7"
  }
 },
 "nbformat": 4,
 "nbformat_minor": 5
}
